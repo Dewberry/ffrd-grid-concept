{
 "cells": [
  {
   "attachments": {},
   "cell_type": "markdown",
   "metadata": {},
   "source": [
    "# 02 - Analysis\n",
    "* Load the depth data created during preprocessing\n",
    "* Load weights from the provided PFRA JSON file\n",
    "* Estimate depth, upper CI, and lower CI for each pixel for each return period"
   ]
  },
  {
   "cell_type": "code",
   "execution_count": null,
   "metadata": {},
   "outputs": [],
   "source": [
    "import ffrd_data_utils as fdu\n",
    "import xarray as xr\n",
    "import json"
   ]
  },
  {
   "cell_type": "code",
   "execution_count": null,
   "metadata": {},
   "outputs": [],
   "source": [
    "from dask.distributed import Client\n",
    "\n",
    "client = Client()\n",
    "client"
   ]
  },
  {
   "cell_type": "code",
   "execution_count": null,
   "metadata": {},
   "outputs": [],
   "source": [
    "DEPTH_ZARR = \"./data/depth.zarr\"\n",
    "WEIGHTS = \"./data/Addison_M03_H04_Weights.json\"\n",
    "RETURN_PERIODS = [10, 50, 100, 500]\n",
    "AEPS = [1/return_period for return_period in RETURN_PERIODS]\n",
    "WSEL_RECHUNKED_ZARR = \"./data/wsel_rechunked.zarr\""
   ]
  },
  {
   "cell_type": "code",
   "execution_count": null,
   "metadata": {},
   "outputs": [],
   "source": [
    "# load the pre-processed depth dataset from the previous notebook\n",
    "depth_ds = xr.open_zarr(DEPTH_ZARR)\n",
    "depth_ds"
   ]
  },
  {
   "cell_type": "code",
   "execution_count": null,
   "metadata": {},
   "outputs": [],
   "source": [
    "# load weights for each depth raster\n",
    "with open(WEIGHTS, 'r') as weights_file:\n",
    "    weights = list(json.load(weights_file).values())"
   ]
  },
  {
   "cell_type": "code",
   "execution_count": null,
   "metadata": {},
   "outputs": [],
   "source": [
    "# for each return period:\n",
    "# 1. estimate the depth at each pixel\n",
    "# 2. compute the upper and lower CI for the depth at each pixel\n",
    "depth_quantiles_ds = fdu.depth_quantiles(depth_ds.depth, AEPS, spatial_ref=depth_ds.spatial_ref, weights=weights)\n",
    "depth_quantiles_ds"
   ]
  },
  {
   "cell_type": "code",
   "execution_count": null,
   "metadata": {},
   "outputs": [],
   "source": [
    "# write results to disk\n",
    "depth_quantiles_ds.to_zarr('./data/depth_quantiles.zarr', mode='w')"
   ]
  },
  {
   "cell_type": "code",
   "execution_count": null,
   "metadata": {},
   "outputs": [],
   "source": [
    "# check out the results\n",
    "depth_quantiles_ds = xr.open_zarr('./data/depth_quantiles.zarr')\n",
    "depth_quantiles_ds"
   ]
  },
  {
   "attachments": {},
   "cell_type": "markdown",
   "metadata": {},
   "source": [
    "## Visualization"
   ]
  },
  {
   "attachments": {},
   "cell_type": "markdown",
   "metadata": {},
   "source": [
    "### Depth"
   ]
  },
  {
   "cell_type": "code",
   "execution_count": null,
   "metadata": {},
   "outputs": [],
   "source": [
    "# depth at AEP == 0.002 (500-yr return period)\n",
    "depth = depth_quantiles_ds.depth.sel(aep=0.002)\n",
    "depth.where(depth > 0.0).plot()"
   ]
  },
  {
   "cell_type": "code",
   "execution_count": null,
   "metadata": {},
   "outputs": [],
   "source": [
    "# depth at AEP == 0.1 (10-yr return period)\n",
    "depth = depth_quantiles_ds.depth.sel(aep=0.1)\n",
    "depth.where(depth > 0.0).plot()"
   ]
  },
  {
   "cell_type": "code",
   "execution_count": null,
   "metadata": {},
   "outputs": [],
   "source": [
    "# difference in depth between 500-yr and 10-yr return periods\n",
    "delta = depth_quantiles_ds.depth.sel(aep=0.002) - depth_quantiles_ds.depth.sel(aep=0.1)\n",
    "delta.plot()"
   ]
  },
  {
   "attachments": {},
   "cell_type": "markdown",
   "metadata": {},
   "source": [
    "### Confidence Interval"
   ]
  },
  {
   "cell_type": "code",
   "execution_count": null,
   "metadata": {},
   "outputs": [],
   "source": [
    "# 10-year return period\n",
    "ci_range = depth_quantiles_ds.upper_ci.sel(aep=0.1) - depth_quantiles_ds.lower_ci.sel(aep=0.1)\n",
    "ci_range.plot()"
   ]
  },
  {
   "cell_type": "code",
   "execution_count": null,
   "metadata": {},
   "outputs": [],
   "source": [
    "# 500-year return period\n",
    "ci_range = depth_quantiles_ds.upper_ci.sel(aep=0.002) - depth_quantiles_ds.lower_ci.sel(aep=0.002)\n",
    "ci_range.plot()"
   ]
  },
  {
   "attachments": {},
   "cell_type": "markdown",
   "metadata": {},
   "source": [
    "### Water Surface Elevation"
   ]
  },
  {
   "cell_type": "code",
   "execution_count": null,
   "metadata": {},
   "outputs": [],
   "source": [
    "wsel_ds = xr.open_zarr(WSEL_RECHUNKED_ZARR)\n",
    "terrain_da = wsel_ds.terrain"
   ]
  },
  {
   "cell_type": "code",
   "execution_count": null,
   "metadata": {},
   "outputs": [],
   "source": [
    "# 10-year water surface elevation\n",
    "(depth_quantiles_ds.depth.sel(aep=0.1) + terrain_da).plot()"
   ]
  },
  {
   "cell_type": "code",
   "execution_count": null,
   "metadata": {},
   "outputs": [],
   "source": [
    "# 500-year water surface elevation\n",
    "(depth_quantiles_ds.depth.sel(aep=0.002) + terrain_da).plot()"
   ]
  }
 ],
 "metadata": {
  "kernelspec": {
   "display_name": "ffrd-grid-concept",
   "language": "python",
   "name": "python3"
  },
  "language_info": {
   "codemirror_mode": {
    "name": "ipython",
    "version": 3
   },
   "file_extension": ".py",
   "mimetype": "text/x-python",
   "name": "python",
   "nbconvert_exporter": "python",
   "pygments_lexer": "ipython3",
   "version": "3.11.3"
  },
  "orig_nbformat": 4
 },
 "nbformat": 4,
 "nbformat_minor": 2
}
